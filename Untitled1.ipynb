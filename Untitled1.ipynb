{
 "cells": [
  {
   "cell_type": "code",
   "execution_count": null,
   "id": "ae929c75-25c6-4088-bff0-3afbf7a4f4a4",
   "metadata": {},
   "outputs": [],
   "source": [
    "1.how do you concantenation two strings in python ?\n",
    "\n",
    "answer:-Python String Concatenation is the technique of combining two strings.\n",
    "        the simplest way to join two strings in python  is by using '+' operator \n",
    "    ex- string1 = \"Hello\"\n",
    "        string2 = \"World\"\n",
    "        result = string1 + string2\n",
    "        print(result) \n",
    "    # Output: \"HelloWorld\"\n",
    "\n",
    " Let’s look at different ways to concatenate strings:\n",
    "\n",
    "Using + operator \n",
    "Using join() method \n",
    "Using % operator \n",
    "Using format() function \n",
    "Using “,” (comma)\n",
    "Using f-string ((Literal String Interpolation))\n",
    "\n"
   ]
  },
  {
   "cell_type": "code",
   "execution_count": null,
   "id": "a3c362b0-7569-4219-923a-653fae322e5b",
   "metadata": {},
   "outputs": [],
   "source": [
    "2. what is the difference between +operator and join () method for concantenating strings?\n",
    "answer:- + operator:- For simple concatenations of two or three strings. is is sutable for simple cases \n",
    "directly and can be used only strings (not other data type) can take to higher memory uses.    \n",
    "- join() method:- For concatenating many strings, or when working with iterables like list and tuples.more efficient and faster than + operator .\n",
    "\n",
    "\n"
   ]
  },
  {
   "cell_type": "code",
   "execution_count": null,
   "id": "81986fe5-2e83-4738-a514-4bd6656101a0",
   "metadata": {},
   "outputs": [],
   "source": [
    "3.how do you acess individual character in string ?\n",
    " answer:- we can access individual character in strings  byt using string name followed by[] braces.                                                                          \n",
    "print(my_string[1])  # Output: \"e\"\n",
    "print(my_string[4])  # Output: \"o\"\n",
    "\n"
   ]
  },
  {
   "cell_type": "code",
   "execution_count": null,
   "id": "110fb5f7-aa45-435c-8da2-e9366faa91af",
   "metadata": {},
   "outputs": [],
   "source": [
    "4.What method is used to find the length of a string in Python?\n",
    "To calculate the length of a string in Python, you can use the built-in len() method. It takes a string as a parameter and returns an integer\n",
    "as the length of that string.\n"
   ]
  },
  {
   "cell_type": "code",
   "execution_count": null,
   "id": "ea0437f9-4191-4190-bbb0-edff290c2acf",
   "metadata": {},
   "outputs": [],
   "source": [
    "5. How can you convert a string into a upper case in python?\n",
    "answer:- we can convert a upper case in python by using my_string.upper() method.\n",
    " ex- my_string =\"hello\"\n",
    " print= ( my_string.upper())\n",
    " # output= \"HELLO\""
   ]
  },
  {
   "cell_type": "code",
   "execution_count": null,
   "id": "3cafaa1f-1106-48ef-9bac-a2fb016ef710",
   "metadata": {},
   "outputs": [],
   "source": [
    "6. how can you convert a string to lower case in python?\n",
    " ans:- we can convert  string to lower cae using my_string.lower() method.\n",
    "print(\"PYTHON\".lower())  \n",
    "     # Output: \"python\""
   ]
  },
  {
   "cell_type": "code",
   "execution_count": null,
   "id": "4c045687-57d6-471d-8ec3-203a176f4898",
   "metadata": {},
   "outputs": [],
   "source": [
    " 7.  what method is used to replace substring within a string?\n",
    "ans:-\n",
    "string=\"python methods\"\n",
    "string.replace(\"python methods\", \"string\")\n",
    "# output : 'string'"
   ]
  },
  {
   "cell_type": "code",
   "execution_count": null,
   "id": "c179054c-1f42-4341-95ae-286019913855",
   "metadata": {},
   "outputs": [],
   "source": [
    "8. how can you split a string into alist of substrings based on delimeter?\n",
    " ans:- To split a string into a list of substrings based on a delimiter we use :\n",
    "\n",
    "my_string.split(delimiter)\n",
    "\n",
    "Example:\n",
    "\"apple,banana,cherry\".split(\",\")\n",
    "#Output:\n",
    "[\"apple\", \"banana\", \"cherry\"]"
   ]
  },
  {
   "cell_type": "code",
   "execution_count": null,
   "id": "866b2b7f-4fbf-4ffd-8b36-c00714de7790",
   "metadata": {},
   "outputs": [],
   "source": [
    "9.how can you check if a string start with a particular substring?\n",
    " ans:- To check if a string starts with a substring:\n",
    "\n",
    "my_string.startswith(substring)\n",
    "\n",
    "Example:\n",
    "\"Hello World\".startswith(\"Hello\")\n",
    "#Output:\n",
    "True"
   ]
  },
  {
   "cell_type": "markdown",
   "id": "4d7eb4e4-8b81-4a8b-9783-f3b7ae78f10c",
   "metadata": {},
   "source": [
    "10.how can you check if a string ends with a particular substring?\n",
    "ans:- to check if a string ends with a substring we do:\n",
    "\n",
    "my_string.endswith(substring)\n",
    "\n",
    "Example:\n",
    "\"Hello World\".endswith(\"World\")\n",
    "#Output:\n",
    "True"
   ]
  },
  {
   "cell_type": "code",
   "execution_count": null,
   "id": "cedca38b-64ad-47dd-a4e7-636eb5515252",
   "metadata": {},
   "outputs": [],
   "source": [
    "11.how can you remove leading and trailling whitespace from astring?\n",
    "ans:To remove leading and trailing whitespace from a string we commonly use :-my_string.strip()."
   ]
  },
  {
   "cell_type": "code",
   "execution_count": null,
   "id": "a82f67d0-b7df-433c-a7f3-cfe23846a45a",
   "metadata": {},
   "outputs": [],
   "source": [
    "12.what method is used to find the index of the first occurance of a substring within a string?\n",
    "ans:-The method used to find the index of the first occurrence of a substring within a string is:\n",
    "\n",
    "my_string.find(substring)\n",
    "\n",
    "This returns the index of the first occurrence of the substring. If the substring is not found, it returns -1.\n",
    "\n",
    "Example:\n",
    "\"Hello World\".find(\"World\")\n",
    "Output:\n",
    "6\n",
    "\n",
    "Alternatively, you can use index() method, but it raises a ValueError if the substring is not found:\n",
    "\n",
    "my_string.index(substring)\n",
    "\n",
    "Example:\n",
    "\"Hello World\".index(\"World\")\n",
    "Output:\n",
    "6"
   ]
  },
  {
   "cell_type": "code",
   "execution_count": null,
   "id": "a4416094-bf0b-45bb-abb7-fbc602724bcd",
   "metadata": {},
   "outputs": [],
   "source": [
    "13. how can you count the number of occurance of substring within a string ?\n",
    "ans:- we  can count the number of occurrences of a substring within a string using the count() method:\n",
    "\n",
    "my_string.count(substring)\n",
    "\n",
    "This returns the number of times the substring appears in the string.\n",
    "\n",
    "Example:\n",
    "\"Hello World, World!\".count(\"World\")\n",
    "Output:\n",
    "2\n",
    "\n"
   ]
  },
  {
   "cell_type": "code",
   "execution_count": null,
   "id": "2d9cf5d5-5fa1-4788-8dfe-3eadf1c25929",
   "metadata": {},
   "outputs": [],
   "source": [
    "14. how can you check if a string contains only alphabetic  character ?\n",
    "ans:- in pyhton we  use isalpha() method to check if a string contains only alphabetic  character \n",
    "if it contains those characters(i,e. alphabets or string or letters)  the value returns TRUE if not it returns FALSE ."
   ]
  },
  {
   "cell_type": "code",
   "execution_count": null,
   "id": "d906c133-2185-4ef5-bd55-e18d902e8d61",
   "metadata": {},
   "outputs": [],
   "source": [
    "15.  how can you check if a string contains only numeric  character?\n",
    "ans:-  we use str.isdigit():  to check where the string contain numeric character\n",
    " ex:-\n",
    "my_string = \"12345\"\n",
    "print(my_string.isdigit()) \n",
    "# Output: True\n",
    "    but if the string contains  other other value rather than number it results  to false.\n"
   ]
  },
  {
   "cell_type": "code",
   "execution_count": null,
   "id": "1a642c50-1e96-4939-82cc-995b1558265f",
   "metadata": {},
   "outputs": [],
   "source": [
    "16. how can you check if a string is a palindrome ?\n",
    "ans:- if a sr=tring is a palindrome  we can check by :- my_string == my_string[::-1]\n",
    "This method simply compares the string with its reverse.\n",
    "If they're equal, it's a palindrome!"
   ]
  },
  {
   "cell_type": "code",
   "execution_count": null,
   "id": "de5fe609-666e-459a-94af-b0707405e07e",
   "metadata": {},
   "outputs": [],
   "source": [
    "17. how can you reverse a string in a python ?\n",
    "ans:-  we can reverse a string in a pyhon by Slicing:\n",
    "     my_string = \"hello\"\n",
    "     reversed_string = my_string[::-1]\n",
    "     print(reversed_string) \n",
    "# Output: \"olleh\"\n"
   ]
  },
  {
   "cell_type": "code",
   "execution_count": null,
   "id": "b5739a1b-a98c-490d-b33a-0b5c3c598acc",
   "metadata": {},
   "outputs": [],
   "source": [
    "18.how can you format a string with placeholders for variable values ?\n",
    "ans:-  we can format a string with a placeholders for variables values by differnt methods:-\n",
    " 1.  Percentage formatting :-\n",
    "name=\"raghav\"\n",
    "age= 25\n",
    "statement1=\"my name is name and my age is age \"\n",
    "statement2=\"my name is %s and my age is %d.\"%(name, age )\n",
    "print(statement1)\n",
    "print(statement2) \n",
    "# output= my name is name and my age is age \n",
    "#       my name is raghav and my age is 25.\n",
    "\n",
    "  2.str.format():-\n",
    "name = \"raghav\"\n",
    "age = 25\n",
    "statement1 = \" name is name and his age is age\"\n",
    "statement2 = \" {}  is name and his age is {}.\".format(name,age)\n",
    "print(statement2)\n",
    "# output = raghav is name and his age is 25.\n",
    "  3. fstring:-\n",
    "name = \"raghav\"\n",
    "age = 25\n",
    "statement1 = \"Hi name your age is age\"\n",
    "statement2 = f\"Hi {name} your age is {age}.\"\n",
    "\n",
    "print(statement2)\n",
    "# output = hi raghav your age is 25\n"
   ]
  },
  {
   "cell_type": "code",
   "execution_count": null,
   "id": "1912aac6-3388-4679-93ba-bba5b18da3fe",
   "metadata": {},
   "outputs": [],
   "source": [
    "19.how do you access a substring of a string using slicing?\n",
    " ans:- using slicing we can access a substring by this format:-\n",
    "\n",
    "  my_string[start:stop:step]\n",
    "\n",
    "- start: The starting index (inclusive)\n",
    "- stop: The ending index (exclusive)\n",
    "- step: The increment between indices    (default is 1)\n",
    " for example :- \n",
    "*my_string[1:5]  we get the characters from 1 to 4\n",
    "* my string[2:4] we get the character  as 2,3\n",
    "* my_string[ :5] we get all fron start to index 4.\n",
    "\n",
    "example for this slicing method:-\n",
    "string =\"python\"\n",
    "string[2:3:1]\n",
    "#output= 't'\n",
    "    "
   ]
  },
  {
   "cell_type": "code",
   "execution_count": null,
   "id": "75513e05-b936-4839-9916-dd5e447a5b28",
   "metadata": {},
   "outputs": [],
   "source": [
    "20. how can you remove a specific characters from string in python?\n",
    "ans:- we can easily replace a specific character from string in python by using:- my_string.replace() method.\n",
    " for example:-\n",
    "string=\"python methods\"\n",
    "string.replace(\"python methods\", \"string\")\n",
    "# output= 'string'"
   ]
  },
  {
   "cell_type": "code",
   "execution_count": null,
   "id": "bcb41730-0013-44e8-be4b-e85e9a86c2c3",
   "metadata": {},
   "outputs": [],
   "source": []
  },
  {
   "cell_type": "code",
   "execution_count": null,
   "id": "f1f71f41-d9d7-499a-a54e-689c4c589cdc",
   "metadata": {},
   "outputs": [],
   "source": []
  },
  {
   "cell_type": "code",
   "execution_count": null,
   "id": "edbe3e0c-a045-4bef-816f-d1fdd7089690",
   "metadata": {},
   "outputs": [],
   "source": []
  },
  {
   "cell_type": "code",
   "execution_count": null,
   "id": "8058cb93-8f83-4936-8dda-59ecf14aa7ba",
   "metadata": {},
   "outputs": [],
   "source": []
  },
  {
   "cell_type": "code",
   "execution_count": null,
   "id": "976adb74-2258-4d85-91b5-f71e1dca266c",
   "metadata": {},
   "outputs": [],
   "source": []
  },
  {
   "cell_type": "code",
   "execution_count": null,
   "id": "32e9340e-2a65-486a-9b85-21bbc8e02eea",
   "metadata": {},
   "outputs": [],
   "source": []
  },
  {
   "cell_type": "code",
   "execution_count": null,
   "id": "d7213ca3-2393-4b5d-ac67-394731b72a07",
   "metadata": {},
   "outputs": [],
   "source": []
  },
  {
   "cell_type": "code",
   "execution_count": null,
   "id": "ebcf2974-c297-42f2-9481-572f576236a2",
   "metadata": {},
   "outputs": [],
   "source": []
  },
  {
   "cell_type": "code",
   "execution_count": null,
   "id": "6cabe073-88d8-4455-9f3b-fc6e8f177fd8",
   "metadata": {},
   "outputs": [],
   "source": []
  },
  {
   "cell_type": "code",
   "execution_count": null,
   "id": "944f90a2-a265-4cdc-ad3b-f782ab679120",
   "metadata": {},
   "outputs": [],
   "source": []
  },
  {
   "cell_type": "code",
   "execution_count": null,
   "id": "e3359db3-e071-46ec-ab80-4ed0ed1cac9d",
   "metadata": {},
   "outputs": [],
   "source": []
  },
  {
   "cell_type": "code",
   "execution_count": null,
   "id": "59e7e160-3b86-48b4-83f3-49ddbe396ecf",
   "metadata": {},
   "outputs": [],
   "source": []
  },
  {
   "cell_type": "code",
   "execution_count": null,
   "id": "04ff6a67-512f-42ae-ad4a-a1a0c6dc0c03",
   "metadata": {},
   "outputs": [],
   "source": []
  },
  {
   "cell_type": "code",
   "execution_count": null,
   "id": "44f9d5d4-45da-4e8f-b009-149ea91d879a",
   "metadata": {},
   "outputs": [],
   "source": []
  }
 ],
 "metadata": {
  "kernelspec": {
   "display_name": "Python 3 (ipykernel)",
   "language": "python",
   "name": "python3"
  },
  "language_info": {
   "codemirror_mode": {
    "name": "ipython",
    "version": 3
   },
   "file_extension": ".py",
   "mimetype": "text/x-python",
   "name": "python",
   "nbconvert_exporter": "python",
   "pygments_lexer": "ipython3",
   "version": "3.12.4"
  }
 },
 "nbformat": 4,
 "nbformat_minor": 5
}
